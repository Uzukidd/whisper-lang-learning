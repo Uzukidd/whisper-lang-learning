{
 "cells": [
  {
   "cell_type": "code",
   "execution_count": 3,
   "metadata": {},
   "outputs": [],
   "source": [
    "import whisper\n",
    "import pickle as pkl\n",
    "import torch\n",
    "model = whisper.load_model(\"medium\").cuda()\n",
    "# print(model)\n",
    "result = model.transcribe(\"..\\\\assets\\\\demo.mp4\")\n",
    "print(result)"
   ]
  },
  {
   "cell_type": "code",
   "execution_count": 12,
   "metadata": {},
   "outputs": [
    {
     "name": "stdout",
     "output_type": "stream",
     "text": [
      "dict_keys(['id', 'seek', 'start', 'end', 'text', 'tokens', 'temperature', 'avg_logprob', 'compression_ratio', 'no_speech_prob'])\n",
      "6\n"
     ]
    }
   ],
   "source": [
    "print(result[\"segments\"][0].keys())\n",
    "print(len(result[\"segments\"]))\n",
    "output_text_pkl = []\n",
    "for seg in result[\"segments\"]:\n",
    "    output_text_pkl.append({\n",
    "        \"id\": seg[\"id\"], \n",
    "        \"start\": seg[\"start\"], \n",
    "        \"end\": seg[\"end\"], \n",
    "        \"text\": seg[\"text\"], \n",
    "    })\n",
    "    # for key, val in seg.items():\n",
    "    #     print(f\"{key}:{val}\")\n",
    "    \n",
    "pkl.dump(output_text_pkl, open(\"./caption_demo.pkl\", \"wb+\"))"
   ]
  },
  {
   "cell_type": "code",
   "execution_count": 2,
   "metadata": {},
   "outputs": [],
   "source": [
    "model.cpu()\n",
    "del model\n",
    "torch.cuda.empty_cache()"
   ]
  },
  {
   "cell_type": "code",
   "execution_count": 6,
   "metadata": {},
   "outputs": [
    {
     "name": "stdout",
     "output_type": "stream",
     "text": [
      "[]\n"
     ]
    }
   ],
   "source": [
    "!python ../third-partly-comps/PyQt_Video_Demo/py_player_demo2.py"
   ]
  },
  {
   "cell_type": "code",
   "execution_count": 6,
   "metadata": {},
   "outputs": [
    {
     "name": "stdout",
     "output_type": "stream",
     "text": [
      "QT5 Player started\n",
      "press 'o' to open file (see context menu for more)\n",
      "mediaStateChanged\n",
      "File loaded\n",
      "mediaStateChanged\n",
      "Caption loaded: D:/Python_project/whisper-lang-learning/assets/demo.caption\n",
      "mediaStateChanged\n",
      "Fullscreen an\n",
      "Fullscreen aus\n",
      "mediaStateChanged\n"
     ]
    },
    {
     "name": "stderr",
     "output_type": "stream",
     "text": [
      "d:\\anaconda3\\envs\\env_whisper_listening\\Lib\\site-packages\\whisper\\timing.py:57: NumbaDeprecationWarning: \u001b[1mThe 'nopython' keyword argument was not supplied to the 'numba.jit' decorator. The implicit default value for this argument is currently False, but it will be changed to True in Numba 0.59.0. See https://numba.readthedocs.io/en/stable/reference/deprecation.html#deprecation-of-object-mode-fall-back-behaviour-when-using-jit for details.\u001b[0m\n",
      "  @numba.jit\n",
      "No schemas installed\n"
     ]
    }
   ],
   "source": [
    "# !python ../third-partly-comps/Python-QT-VideoPlayer/QT6_VideoPlayer.py ../assets/demo.mp4\n",
    "VIDEO_PATH = \"../assets/demo.mp4\"\n",
    "!python ../interface/widgets/QT6_VideoPlayer.py\n",
    "# {VIDEO_PATH}"
   ]
  },
  {
   "cell_type": "code",
   "execution_count": 4,
   "metadata": {},
   "outputs": [
    {
     "name": "stdout",
     "output_type": "stream",
     "text": [
      "/path/to/file.backup .txt\n"
     ]
    }
   ],
   "source": [
    "import os\n",
    "\n",
    "path = '/path/to/file.backup.txt'\n",
    "filename, file_extension = os.path.splitext(path)\n",
    "print(filename, file_extension)"
   ]
  }
 ],
 "metadata": {
  "kernelspec": {
   "display_name": "env_whisper_listening",
   "language": "python",
   "name": "python3"
  },
  "language_info": {
   "codemirror_mode": {
    "name": "ipython",
    "version": 3
   },
   "file_extension": ".py",
   "mimetype": "text/x-python",
   "name": "python",
   "nbconvert_exporter": "python",
   "pygments_lexer": "ipython3",
   "version": "3.11.4"
  },
  "orig_nbformat": 4
 },
 "nbformat": 4,
 "nbformat_minor": 2
}
